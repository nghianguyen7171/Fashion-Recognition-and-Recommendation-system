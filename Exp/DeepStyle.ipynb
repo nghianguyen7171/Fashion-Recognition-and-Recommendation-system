{
 "cells": [
  {
   "cell_type": "code",
   "execution_count": 1,
   "metadata": {},
   "outputs": [],
   "source": [
    "import numpy as np\n",
    "import pandas as pd\n",
    "import seaborn as sns\n",
    "import matplotlib.pyplot as plt\n",
    "from datetime import datetime\n",
    "from plot_metric.functions import BinaryClassification\n",
    "import sys, os\n",
    "import shutil\n",
    "import glob\n",
    "import pickle\n",
    "from os import listdir\n",
    "import warnings\n",
    "warnings.filterwarnings(\"ignore\")\n",
    "\n",
    "# Os path\n",
    "script_dir  = os.path.normpath(os.path.abspath(\".\"))\n",
    "source_dir  = os.path.normpath(os.path.abspath(script_dir + \"/..\"))\n",
    "if source_dir in sys.path: sys.path.remove(source_dir)\n",
    "sys.path.insert(1, source_dir)\n",
    "\n",
    "%matplotlib inline"
   ]
  },
  {
   "cell_type": "markdown",
   "metadata": {},
   "source": [
    "# Step 1: Install Detectron and DeepFashion Dataset"
   ]
  },
  {
   "cell_type": "code",
   "execution_count": null,
   "metadata": {},
   "outputs": [],
   "source": []
  }
 ],
 "metadata": {
  "kernelspec": {
   "display_name": "Python 3.8.13 ('AIPJ_Fashion')",
   "language": "python",
   "name": "python3"
  },
  "language_info": {
   "codemirror_mode": {
    "name": "ipython",
    "version": 3
   },
   "file_extension": ".py",
   "mimetype": "text/x-python",
   "name": "python",
   "nbconvert_exporter": "python",
   "pygments_lexer": "ipython3",
   "version": "3.8.13"
  },
  "orig_nbformat": 4,
  "vscode": {
   "interpreter": {
    "hash": "ff8eeeb9fd84dd1c4d6cc7ccb68af011975bd9df033d8126591403808091769b"
   }
  }
 },
 "nbformat": 4,
 "nbformat_minor": 2
}
